{
 "cells": [
  {
   "cell_type": "code",
   "execution_count": 13,
   "metadata": {},
   "outputs": [],
   "source": [
    "import numpy as np\n",
    "import pandas as pd\n",
    "import matplotlib.pyplot as plt"
   ]
  },
  {
   "cell_type": "markdown",
   "metadata": {},
   "source": [
    "#### **INICIALIZANDO EL DATASET**"
   ]
  },
  {
   "cell_type": "code",
   "execution_count": 14,
   "metadata": {},
   "outputs": [],
   "source": [
    "df = pd.read_csv('./data/universal_top_spotify_songs.csv')"
   ]
  },
  {
   "cell_type": "markdown",
   "metadata": {},
   "source": [
    "#### **DESCRIPCIÓN DE COLUMNAS**\n",
    "\n",
    "- `spotify_id`: El ID de la canción de spotify\n",
    "- `name`: El nombre de la cancion  \n",
    "- `artist`: El nombre del artista\n",
    "- `daily_rank`: El ranking diario de la canción\n",
    "- `daily_movement`: El cambio del ranking diario con el día anterior\n",
    "- `weekly_movement`: El cambio del ranking con la semana anterior\n",
    "- `country`: El código ISO del país\n",
    "- `snapshot_date`: Fecha en donde se recogierons los datos desde la API de Spotify\n",
    "- `popularity`: Medida de popularidad actual de la canción\n",
    "- `is_explicit`: Indica si la canción tiene contenido de letras explicitas\n",
    "- `duration_ms`: Duración de la canción en milisegundos\n",
    "- `album_name`: El título del album de la canción\n",
    "- `album_release_date`: Fecha de lanzamiento del álbum de la canción\n",
    "- `danceability`: Medida que indica que tan bailable es la canción"
   ]
  },
  {
   "cell_type": "code",
   "execution_count": 15,
   "metadata": {},
   "outputs": [
    {
     "name": "stdout",
     "output_type": "stream",
     "text": [
      "<class 'pandas.core.frame.DataFrame'>\n",
      "RangeIndex: 1018853 entries, 0 to 1018852\n",
      "Data columns (total 25 columns):\n",
      " #   Column              Non-Null Count    Dtype  \n",
      "---  ------              --------------    -----  \n",
      " 0   spotify_id          1018853 non-null  object \n",
      " 1   name                1018826 non-null  object \n",
      " 2   artists             1018826 non-null  object \n",
      " 3   daily_rank          1018853 non-null  int64  \n",
      " 4   daily_movement      1018853 non-null  int64  \n",
      " 5   weekly_movement     1018853 non-null  int64  \n",
      " 6   country             1005046 non-null  object \n",
      " 7   snapshot_date       1018853 non-null  object \n",
      " 8   popularity          1018853 non-null  int64  \n",
      " 9   is_explicit         1018853 non-null  bool   \n",
      " 10  duration_ms         1018853 non-null  int64  \n",
      " 11  album_name          1018334 non-null  object \n",
      " 12  album_release_date  1018473 non-null  object \n",
      " 13  danceability        1018853 non-null  float64\n",
      " 14  energy              1018853 non-null  float64\n",
      " 15  key                 1018853 non-null  int64  \n",
      " 16  loudness            1018853 non-null  float64\n",
      " 17  mode                1018853 non-null  int64  \n",
      " 18  speechiness         1018853 non-null  float64\n",
      " 19  acousticness        1018853 non-null  float64\n",
      " 20  instrumentalness    1018853 non-null  float64\n",
      " 21  liveness            1018853 non-null  float64\n",
      " 22  valence             1018853 non-null  float64\n",
      " 23  tempo               1018853 non-null  float64\n",
      " 24  time_signature      1018853 non-null  int64  \n",
      "dtypes: bool(1), float64(9), int64(8), object(7)\n",
      "memory usage: 187.5+ MB\n"
     ]
    }
   ],
   "source": [
    "df.info()"
   ]
  }
 ],
 "metadata": {
  "kernelspec": {
   "display_name": "Python 3",
   "language": "python",
   "name": "python3"
  },
  "language_info": {
   "codemirror_mode": {
    "name": "ipython",
    "version": 3
   },
   "file_extension": ".py",
   "mimetype": "text/x-python",
   "name": "python",
   "nbconvert_exporter": "python",
   "pygments_lexer": "ipython3",
   "version": "3.11.2"
  }
 },
 "nbformat": 4,
 "nbformat_minor": 2
}
